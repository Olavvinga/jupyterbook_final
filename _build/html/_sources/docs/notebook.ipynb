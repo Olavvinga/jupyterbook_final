{
 "cells": [
  {
   "attachments": {},
   "cell_type": "markdown",
   "metadata": {},
   "source": [
    "## Data Story Group Project\n",
    "\n",
    "Jannes de Waard 14363003<br>\n",
    "Olek Lobman     14638177<br>\n",
    "Mickey Kotterer 13464167<br>\n",
    "Olav Mestrum    14504863<br>"
   ]
  },
  {
   "attachments": {},
   "cell_type": "markdown",
   "metadata": {},
   "source": [
    "# Introduction\n",
    "Dit project richt zich op het verkennen van de invloed van het huishoudelijk inkomen op inkomensniveaus en de invloed van de woonplaats op het inkomensniveau. Er worden twee verschillende perspectieven onderzocht en geanalyseerd om een breder inzicht te krijgen in dit complexe onderwerp. Het eerste perspectief stelt dat als iemand opgroeit in een gezin met een hoog huishoudelijk inkomen de kans groter is dat deze persoon later ook veel gaat verdienen. Hierbij wordt er uitgegaan van het idee dat het huishoudelijk inkomen wordt gebruikt om het collegegeld te betalen en dat daardoor iemand uit een arm gezin niet naar een dure universiteit zou kunnen. Dit perspectief benadrukt het belang van het milieu waarin je opgroeit als voornaamste factor voor het bepalen van je inkomen later.\n",
    "Het tweede perspectief stelt dat het huishoudelijk inkomen niet van invloed is maar de staat waarin je woont van belang is. Hier ligt de nadruk op de hoogte van het collegegeld dat betaald moet worden door studenten, dit kan namelijk verschillen voor studenten die in de staat geboren zijn en studenten die uit een andere staat komen.\n",
    "Door middel van het analyseren van twee verschillende datasets, zal er een  inzicht worden verkregen in deze perspectieven en de argumenten die ze ondersteunen. Het doel van dit project is om een grondige evaluatie van beide perspectieven te bieden, om zo meer duidelijkheid te krijgen over de factoren die invloed hebben op het inkomensniveau wat behaald kan worden na het afronden van een studie. \n",
    "\n"
   ]
  },
  {
   "attachments": {},
   "cell_type": "markdown",
   "metadata": {},
   "source": [
    "# Dataset and preprocessing<br>\n",
    "## Dataset 1: US Household Income Statistics<br>\n",
    "Link: https://www.kaggle.com/datasets/goldenoakresearch/us-household-income-stats-geo-locations<br>\n",
    "Beschrijving: <br>Deze dataset geeft inzicht in de inkomens per huishouden in de Verenigde Staten.\n",
    "Naast inzicht in het gemiddelde en mediane inkomen, geeft deze dataset ook informatie over \n",
    "het aantal huishoudens en de bevolkingsdichtheid op verschillende geografische niveaus, zoals \n",
    "staten, provincies en plaatsen. Deze informatie is nuttig om een analyse te maken van de \n",
    "inkomensongelijkheid in verschillende staten in de Verenigde Staten. \n",
    "\n",
    "Ten eerste is de dataset gevonden op de Kaggle website. Vervolgens is er\n",
    "geanalyseerd uit welke kolommen deze dataset bestaat. Hieruit volgde dat alleen de “State” \n",
    "en “mean income” kolom nuttig zijn voor dit onderzoek. \n",
    "\n",
    "## Dataset 2: College tuition, diversity, and pay<br>\n",
    "Link: https://www.kaggle.com/datasets/jessemostipak/college-tuition-diversity-and-pay<br>\n",
    "Beschrijving:<br> \n",
    "Deze dataset bevat informatie over het collegegeld en de kosten per college/universiteit in de Verenigde Staten voor het academisch jaar 2018-2019. Hieronder vallen het type instelling, de duur van de opleiding, de staat en of het in-state of out-of-state is. Met behulp van verschillende tabellen in de dataset kunnen verbanden en inzichten worden verkregen over de kosten, diversiteit, trends en potentieel salaris na het afronden van hogescholen en universiteiten in de Verenigde Staten.\n",
    "\n",
    "Deze dataset bestaat uit vijf csv files namelijk: tuition_income, tuition_cost, salary_potential, diversity_school en historical_tuition. De laatste is voor onze datastory niet van belang, daarom hebben we de overige sets gemerged om de belangrijke data in één dataframe te hebben. \n",
    " \n"
   ]
  },
  {
   "attachments": {},
   "cell_type": "markdown",
   "metadata": {},
   "source": [
    "# Het prepareren van de datasets\n"
   ]
  },
  {
   "cell_type": "code",
   "execution_count": null,
   "metadata": {},
   "outputs": [],
   "source": [
    "import pandas as pd\n",
    "import plotly.graph_objs as go\n",
    "import plotly.express as px"
   ]
  },
  {
   "attachments": {},
   "cell_type": "markdown",
   "metadata": {},
   "source": [
    "### Inkomens dataset"
   ]
  },
  {
   "cell_type": "code",
   "execution_count": null,
   "metadata": {},
   "outputs": [],
   "source": [
    "income_df = pd.read_csv('kaggle_income.csv', encoding='ISO-8859-1')"
   ]
  },
  {
   "attachments": {},
   "cell_type": "markdown",
   "metadata": {},
   "source": [
    "In de cel hierboven hebben wij een encoding toegevoegd omdat we niet de goede encoding hadden als default. Wij zijn hier achter gekomen met behulp van chatGPT. Het probleem wat zich voordeet luidt als volgt:\n",
    "```File c:\\Users\\Olav\\AppData\\Local\\Programs\\Python\\Python311\\Lib\\site-packages\\pandas\\util\\_decorators.py:211, in deprecate_kwarg.._deprecate_kwarg..wrapper(*args, **kwargs)\n",
    "    209     else:\n",
    "    210         kwargs[new_arg_name] = new_arg_value\n",
    "--> 211 return func(*args, **kwargs)\n",
    "\n",
    "File c:\\Users\\Olav\\AppData\\Local\\Programs\\Python\\Python311\\Lib\\site-packages\\pandas\\util\\_decorators.py:331, in deprecate_nonkeyword_arguments..decorate..wrapper(*args, **kwargs)\n",
    "    325 if len(args) > num_allow_args:\n",
    "    326     warnings.warn(\n",
    "    327         msg.format(arguments=_format_argument_list(allow_args)),\n",
    "    328         FutureWarning,\n",
    "    329         stacklevel=find_stack_level(),\n",
    "    330     )\n",
    "--> 331 return func(*args, **kwargs)\n",
    "\n",
    "File c:\\Users\\Olav\\AppData\\Local\\Programs\\Python\\Python311\\Lib\\site-packages\\pandas\\io\\parsers\\readers.py:950, in read_csv(filepath_or_buffer, sep, delimiter, header, names, index_col, usecols, squeeze, prefix, mangle_dupe_cols, dtype, engine, converters, true_values, false_values, skipinitialspace, skiprows, skipfooter, nrows, na_values, keep_default_na, na_filter, verbose, skip_blank_lines, parse_dates, infer_datetime_format, keep_date_col, date_parser, dayfirst, cache_dates, iterator, chunksize, compression, thousands, decimal, lineterminator, quotechar, quoting, doublequote, escapechar, comment, encoding, encoding_errors, dialect, error_bad_lines, warn_bad_lines, on_bad_lines, delim_whitespace, low_memory, memory_map, float_precision, storage_options)\n",
    "    935 kwds_defaults = _refine_defaults_read(\n",
    "    936     dialect,\n",
    "    937     delimiter,\n",
    "...\n",
    "File c:\\Users\\Olav\\AppData\\Local\\Programs\\Python\\Python311\\Lib\\site-packages\\pandas\\_libs\\parsers.pyx:852, in pandas._libs.parsers.TextReader._tokenize_rows()\n",
    "\n",
    "File c:\\Users\\Olav\\AppData\\Local\\Programs\\Python\\Python311\\Lib\\site-packages\\pandas\\_libs\\parsers.pyx:1965, in pandas._libs.parsers.raise_parser_error()\n",
    "\n",
    "UnicodeDecodeError: 'utf-8' codec can't decode byte 0xf1 in position 20530: invalid continuation byte\n",
    "```\n",
    "\n",
    "Hieruit bleek dat er een aantal de encoding die gebruikt werd bij het inlezen van kaggle_income.csv verkeerd was. Om erachter te komen welke encoding goed is hebben wij een formule gekregen die dat kan detecteren met behulp van chardet. hieruit kwam **ISO-8859-1** uit als encoding. Omdat dit notebook gerund moet kunnen worden zonder problemen hebben wij dit opgeslagen en de formule weggehaald. De formule die we gebruikt hebben is:\n",
    "```import chardet\n",
    "\n",
    "with open('kaggle_income.csv', 'rb') as f:\n",
    "    raw_bytes = f.read()\n",
    "    detected_encoding = chardet.detect(raw_bytes)['encoding']\n",
    "```"
   ]
  },
  {
   "attachments": {},
   "cell_type": "markdown",
   "metadata": {},
   "source": [
    "### Schoolgeld dataset"
   ]
  },
  {
   "cell_type": "code",
   "execution_count": null,
   "metadata": {},
   "outputs": [],
   "source": [
    "tuition_income_df = pd.read_csv('tuition_income.csv')\n",
    "tuition_cost_df = pd.read_csv('tuition_cost.csv')\n",
    "salary_potential_df = pd.read_csv('salary_potential.csv')\n",
    "historical_tuition_df = pd.read_csv('historical_tuition.csv')\n",
    "diversity_df = pd.read_csv('diversity_school.csv')"
   ]
  },
  {
   "attachments": {},
   "cell_type": "markdown",
   "metadata": {},
   "source": [
    "Deze dataset kwam als bundel met vijf csv bestanden. Hiervan konden wij er 4 gebruiken en mergen met elkaar. Dit werd een heel grote dataset en er is vervolgens een keuze gemaakt uit de kolommen die wij wilden meenemen in deze story."
   ]
  },
  {
   "cell_type": "code",
   "execution_count": null,
   "metadata": {},
   "outputs": [],
   "source": [
    "tidf = tuition_income_df[['name', 'state', 'total_price', 'year', 'net_cost','income_lvl']]\n",
    "tcdf = tuition_cost_df[['name', 'state', 'state_code', 'room_and_board', 'in_state_tuition', 'out_of_state_tuition']]\n",
    "spdf = salary_potential_df[['name', 'state_name', 'early_career_pay', 'mid_career_pay']]\n",
    "ddf = diversity_df[['name', 'total_enrollment', 'state', 'category',]]\n",
    "\n",
    "tuition_df = pd.merge(tidf, tcdf, on='name')\n",
    "tuition_df = pd.merge(tuition_df, spdf, on='name')\n",
    "tuition_df = pd.merge(tuition_df, ddf, on='name')\n"
   ]
  },
  {
   "attachments": {},
   "cell_type": "markdown",
   "metadata": {},
   "source": [
    "## Visualisatie 1 & 2\n",
    "In deze visualisatie wordt er gekeken naar de verdeling van het inkomen in de verenigde staten.\n",
    "\n",
    "De taartdiagram toont de verdeling van huishoudens in verschillende inkomensgroepen in de Verenigde Staten. De inkomensgroepen zijn bepaald door het instellen van grenswaarden, zoals bijvoorbeeld $35.000, $50.000, enzovoort. Elke groep wordt weergegeven als een gekleurde sector in de taartdiagram.\n",
    "\n",
    "Uit de gegevens blijkt dat meer dan 60% van de Amerikaanse huishoudens een jaarinkomen van niet meer dan $70.000 heeft. Deze bevindingen werpen een belangrijke vraag op over de toegankelijkheid van hoger onderwijs in relatie tot het huishoudelijk inkomen.\n",
    "Als de informatie uit deze taartgrafiek vervolgens wordt vergeleken met gegevens over de gemiddelde prijs voor collegegeld per staat, wordt duidelijk dat een aanzienlijk deel van de Amerikaanse huishoudens hoogstwaarschijnlijk niet eens de financiële mogelijkheid heeft om te studeren aan een universiteit.\n",
    "\n",
    "Door de combinatie van deze twee grafieken kan er een complex beeld geschetst worden van de uitdagingen waarmee Amerikaanse huishoudens te maken hebben bij het nastreven van hoger onderwijs. Een groot deel van de huishoudens verdient al laag inkomen, en de hoge kosten voor collegegeld kunnen het voor hen nog moeilijker maken om toegang te krijgen tot universitaire opleidingen. Dit is een goed argument voor ons eerste perspectief.\n",
    "\n"
   ]
  },
  {
   "cell_type": "code",
   "execution_count": null,
   "metadata": {},
   "outputs": [],
   "source": [
    "bins = [0, 35000, 50000, 70000, 100000, 150000, 100000000]\n",
    "\n",
    "income_df['house_income_qcut'] = pd.cut(income_df['Mean'], bins=bins, labels=['<35K', '35K-50K', \"50K-70K\", '70K-100K', '100K-150K', '>150K'])\n",
    "\n",
    "category_counts = income_df['house_income_qcut'].value_counts()\n",
    "\n",
    "datapie = go.Pie(\n",
    "    labels=category_counts.index,\n",
    "    values=category_counts.values,\n",
    "    hole=0.85,\n",
    "    marker = dict(colors=px.colors.qualitative.T10),\n",
    "    textinfo = 'label+percent')\n",
    "\n",
    "layout = go.Layout(\n",
    "    title='Percentage huishoudens dat binnen inkomensgroep valt',\n",
    "    height=600,)\n",
    "\n",
    "fig = go.Figure(data=datapie, layout=layout)\n",
    "fig.show()"
   ]
  },
  {
   "attachments": {},
   "cell_type": "markdown",
   "metadata": {},
   "source": [
    "figuur 1"
   ]
  },
  {
   "cell_type": "code",
   "execution_count": null,
   "metadata": {},
   "outputs": [],
   "source": [
    "bins = [0, 35000, 50000, 70000, 100000, 150000, 100000000]\n",
    "\n",
    "income_df['house_income_qcut'] = pd.cut(income_df['Mean'], bins=bins, labels=['<35K', '35K-50K', \"50K-70K\", '70K-100K', '100K-150K', '>150K'])\n",
    "\n",
    "\n",
    "data = go.Pie(\n",
    "    labels = income_df['house_income_qcut'],\n",
    "    values = (income_df['Mean']),\n",
    "    hole = 0.85,\n",
    "    marker = dict(colors=px.colors.qualitative.T10),\n",
    "    textinfo = 'label+percent')\n",
    "\n",
    "layout = go.Layout(\n",
    "    title = 'Cumulatief van geld bij inkomensgroepen huishouden',\n",
    "    height = 600)\n",
    "\n",
    "fig = go.Figure(data=data, layout=layout)\n",
    "fig.add_trace(datapie)\n",
    "fig.show()"
   ]
  },
  {
   "attachments": {},
   "cell_type": "markdown",
   "metadata": {},
   "source": [
    "figuur 2"
   ]
  },
  {
   "attachments": {},
   "cell_type": "markdown",
   "metadata": {},
   "source": [
    "In de taartdiagram hierboven is te zien hoeveel de inkomsgroepen cumulatief aan inkomen krijgen van het totaal. De lage inkomensgroepen hebben veel minder procent van het geld in bezit dan zij bij een gelijke verdeling zouden hebben. Om dit te illustreren is er een DataFrame gemaakt die de proporties en verschillen laat zien.\n"
   ]
  },
  {
   "cell_type": "code",
   "execution_count": null,
   "metadata": {},
   "outputs": [],
   "source": [
    "cumul_money = pd.Series([4.03, 13.7, 27.7, 29.3, 21, 4.33])\n",
    "cumul_people = pd.Series([9.69, 21.3, 31.5, 23.8, 11.9, 1.75])\n",
    "index = ['<35K', '35K-50K', \"50K-70K\", '70K-100K', '100K-150K', '>150K']\n",
    "\n",
    "pie_df = pd.DataFrame({'income_scale' : index, 'percentage_of_money' : cumul_money, 'percentage_of_people' : cumul_people})\n",
    "pie_df['difference'] = (pie_df['percentage_of_money'] - pie_df['percentage_of_people'])\n",
    "pie_df['proportion'] = round((pie_df['percentage_of_money'] / pie_df['percentage_of_people']), 2)\n",
    "display(pie_df)"
   ]
  },
  {
   "attachments": {},
   "cell_type": "markdown",
   "metadata": {},
   "source": [
    "Uit deze tabel is op te maken dat de lagere inkomensgroepen een kleinere proportie hebben van de totale inkomens. Hieruit is op te maken dat lagere inkomensgroepen weinig geld te besteden hebben op bijvoorbeeld onderwijs. Doordat de prijs van onderwijs kan verschillen zijn zij beperkt in het kiezen van een universiteit\n",
    "\n",
    "** Tabel visualiseren"
   ]
  },
  {
   "attachments": {},
   "cell_type": "markdown",
   "metadata": {},
   "source": [
    "## Visualisatie 3: \n",
    "Deze staafgrafiek toont het gemiddelde huishoudelijke inkomen per staat. De gegevens zijn afkomstig van het dataframe 'income_df' en bevatten de kolommen 'State_Name' (naam van de staat) en 'Mean' (gemiddeld inkomen).\n",
    "\n",
    "De staafdiagram is opgebouwd uit verticale balken, waarbij elke staaf overeenkomt met een staat. De horizontale as representeert de namen van de staten, en de verticale as geeft het gemiddelde huishoudelijke inkomen weer. Door de hoogtes van de staven te vergelijken, krijgen we een beeld van de relatieve inkomensniveaus tussen de verschillende staten. \n",
    "\n",
    "In de grafiek valt te zien dat er tussen staten grote verschillen in gemiddeld huishoudelijk inkomen zijn. Dit suggereert dat de staat waarin iemand geboren wordt in een directe relatie staat tot het inkomensniveau, wat ons tweede perspectief ondersteunt. In de staten waarin het gemiddelde huishoudelijke inkomen hoger is, kunnen families namelijk eerder de kosten voor onderwijs betalen, en beter onderwijs resulteert in een hoger gemiddeld inkomen. Toch hoeft dit hoge huishoudelijke inkomen niet de reden te zijn dat iemand veel verdiend, dit zal in de volgende visualisatie aangetoond worden.\n",
    "\n",
    "\n",
    "\n"
   ]
  },
  {
   "cell_type": "code",
   "execution_count": null,
   "metadata": {},
   "outputs": [],
   "source": [
    "tril_df = income_df[['State_Name', 'Mean']]\n",
    "mid_df = tril_df.groupby('State_Name')[['Mean']].mean().reset_index()\n",
    "mid_df = mid_df.sort_values('Mean', ascending=False)\n",
    "\n",
    "mean_income = go.Bar(\n",
    "    x = mid_df['State_Name'],\n",
    "    y = mid_df['Mean'],\n",
    "    name = 'Average househould income'\n",
    ")\n",
    "\n",
    "\n",
    "fig2 = go.Figure(data=mean_income)\n",
    "fig2.show()"
   ]
  },
  {
   "attachments": {},
   "cell_type": "markdown",
   "metadata": {},
   "source": [
    "figuur 3\n"
   ]
  },
  {
   "attachments": {},
   "cell_type": "markdown",
   "metadata": {},
   "source": [
    "## Visualisatie 4\n",
    "#### Verschil in collegegeld universiteiten\n",
    "\n",
    "Deze visualisatie is een scatterplot van de tweede dataset. In dit scatterplot staat elk puntje voor een universiteit in een bepaalde staat in de Verenigde Staten. Op de x-as is te lezen hoeveel collegegeld studenten aan deze universiteit betalen als ze zelf uit de staat komen waar de universiteit is gevestigd. Op de y-as is te lezen hoeveel collegegeld studenten betalen als ze studeren aan een universiteit die zich niet bevindt in de staat waarin ze wonen. Deze dataset bevat uitsluitend informatie over universiteiten waarbij studenten van buiten de staat meer moeten betalen dan studenten van binnen de staat. Dit is bij 224 van de 629 universiteiten het geval. Omgerekend is dat 35.6% van de universiteiten.  \n",
    "\n"
   ]
  },
  {
   "cell_type": "code",
   "execution_count": null,
   "metadata": {},
   "outputs": [],
   "source": [
    "same_filt = (tuition_df['in_state_tuition'] != tuition_df['out_of_state_tuition'])\n",
    "\n",
    "different_tuition_df = tuition_df[same_filt]\n",
    "\n",
    "fig = px.scatter(different_tuition_df, x=different_tuition_df['in_state_tuition'], y=different_tuition_df['out_of_state_tuition'],\n",
    "\t            color=different_tuition_df['state_name'],\n",
    "                hover_name=different_tuition_df['name'], log_x=True, size_max=60\n",
    "                )\n",
    "\n",
    "fig.update_layout(\n",
    "    xaxis=dict(title='Tuition for in state students'),\n",
    "    yaxis=dict(title='Tuition out of state students'),\n",
    "    title='Scatter Plot of Universities only with different tuition fees for out of state studenten'\n",
    ")\n",
    "\n",
    "fig.show()"
   ]
  },
  {
   "attachments": {},
   "cell_type": "markdown",
   "metadata": {},
   "source": [
    "figuur 4"
   ]
  },
  {
   "attachments": {},
   "cell_type": "markdown",
   "metadata": {},
   "source": [
    "## Visualisatie 5\n",
    "\n",
    "\n",
    "Doordat 35.6% van de universiteiten verschillende tuition fees hebben, zijn zij bij elkaar verantwoordelijk voor de verschuiving in het onderstaande scatterplot. Deze laat een gestippelde lijn zien bij een gelijke verdeling van tuition fee's. We hebben de gemiddelden van tuition fees for 'in state' en 'out of state' studenten gepakt per staat. Daaruit is de onderstaande plot ontstaan"
   ]
  },
  {
   "cell_type": "code",
   "execution_count": null,
   "metadata": {},
   "outputs": [],
   "source": [
    "lil_df = tuition_df[['state_y', 'in_state_tuition', 'out_of_state_tuition']]\n",
    "mean_df = lil_df.groupby('state_y')[['in_state_tuition', 'out_of_state_tuition']].mean().reset_index()\n",
    "\n",
    "fig2 = px.scatter(mean_df, x=mean_df['in_state_tuition'], y=mean_df['out_of_state_tuition'],\n",
    "\t            color=mean_df['state_y'],\n",
    "                hover_name=mean_df['state_y'],\n",
    "                )\n",
    "fig2.add_trace(go.Scatter(x=[5000, 55000],\n",
    "                        y=[5000, 55000],\n",
    "                        mode='lines',\n",
    "                        name='Equal tuition fees',\n",
    "                        line=dict(color='black', dash='dash')))\n",
    "fig2.update_layout(xaxis_title='In state tuition fee', yaxis_title='Out of state tuition fee')"
   ]
  },
  {
   "attachments": {},
   "cell_type": "markdown",
   "metadata": {},
   "source": [
    "figuur 5"
   ]
  },
  {
   "attachments": {},
   "cell_type": "markdown",
   "metadata": {},
   "source": [
    "## Visualisatie 6\n",
    "\n",
    "In de onderstaande interactieve landkaart is een combinatie van bovenstaande grafieken en het gemiddeld huishoudelijk inkomen te vinden over de verschillende staten van de Verenigde Staten. De kaart geeft naast het gemiddeld huishoudelijk\n",
    "inkomen per staat ook de gemiddelde in- en out- state tuition en het verschil uitgedrukt in percentage.\n",
    "\n",
    "Wat opvalt is dat staten waar zowel in- als out of state studenten veel tuition fee betalen vaak ook een hoog gemiddeld huishoudelijk inkomen hebben.\n",
    "Toch zijn er staten, bijvoorbeeld Indiana, waar het tuition fee voor in state studenten hoog is zonder een hoog gemiddeld inkomen. Dit betekent dat het lastig kan zijn om de kosten voor onderwijs te betalen en veel te verdienen als je bent geboren in een staat waar het gemiddeld inkomen laag is en de tuition fee hoog. Ons tweede perspectief wordt hierdoor versterkt.\n",
    "\n"
   ]
  },
  {
   "cell_type": "code",
   "execution_count": null,
   "metadata": {},
   "outputs": [],
   "source": [
    "lil_df = tuition_df[['state_y', 'in_state_tuition', 'out_of_state_tuition']]\n",
    "mean_df = lil_df.groupby('state_y')[['in_state_tuition', 'out_of_state_tuition']].mean().reset_index()\n",
    "mean_df = mean_df.rename(columns={'state_y' : 'State_Name'})\n",
    "\n",
    "tril_df = income_df[['State_Name', 'Mean']]\n",
    "mid_df = tril_df.groupby('State_Name')[['Mean']].mean().reset_index()\n",
    "filt = (mid_df['State_Name'] != 'District of Columbia') & (mid_df['State_Name'] != 'Puerto Rico')\n",
    "mid_df = mid_df[filt]\n",
    "\n",
    "merged_df = pd.merge(mean_df, mid_df, on='State_Name')\n",
    "\n",
    "merged_df['difference_percentage'] = (abs(merged_df['out_of_state_tuition'] - merged_df['in_state_tuition']) / merged_df['in_state_tuition']) * 100\n",
    "\n",
    "code = {'Alabama': 'AL','Alaska': 'AK','Arizona': 'AZ',\n",
    "        'Arkansas': 'AR','California': 'CA','Colorado': 'CO','Connecticut': 'CT','Delaware': 'DE',\n",
    "        'District of Columbia': 'DC','Florida': 'FL','Georgia': 'GA','Hawaii': 'HI','Idaho': 'ID',\n",
    "        'Illinois': 'IL','Indiana': 'IN','Iowa': 'IA','Kansas': 'KS','Kentucky': 'KY','Louisiana': 'LA',\n",
    "        'Maine': 'ME','Maryland': 'MD','Massachusetts': 'MA','Michigan': 'MI','Minnesota': 'MN',\n",
    "        'Mississippi': 'MS','Missouri': 'MO','Montana': 'MT','Nebraska': 'NE','Nevada': 'NV',\n",
    "        'New Hampshire': 'NH','New Jersey': 'NJ','New Mexico': 'NM','New York': 'NY',\n",
    "        'North Carolina': 'NC','North Dakota': 'ND','Ohio': 'OH','Oklahoma': 'OK',\n",
    "        'Oregon': 'OR','Pennsylvania': 'PA','Rhode Island': 'RI','South Carolina': 'SC',\n",
    "        'South Dakota': 'SD','Tennessee': 'TN','Texas': 'TX','Utah': 'UT','Vermont': 'VT','Virginia': 'VA',\n",
    "        'Washington': 'WA','West Virginia': 'WV','Wisconsin': 'WI', 'Wyoming': 'WY'}\n",
    "\n",
    "merged_df['State_Code'] = merged_df['State_Name'].map(code)\n",
    "\n",
    "fig = px.choropleth(\n",
    "    merged_df,\n",
    "    locations='State_Code',\n",
    "    color='Mean',\n",
    "    color_continuous_scale=[[0, 'white'], [1, 'darkgreen']],  \n",
    "    hover_name='State_Name',\n",
    "    locationmode='USA-states',\n",
    "    scope='usa',\n",
    "    labels={'Mean': 'Mean Household Income'}\n",
    ")\n",
    "\n",
    "fig.update_traces(\n",
    "    hovertemplate='<b>%{hovertext}</b><br>' +\n",
    "                  'Mean: $%{z:.2f}<br>' +\n",
    "                  'In-State Tuition: $%{customdata[0]:,.2f}<br>' +\n",
    "                  'Out-of-State Tuition: $%{customdata[1]:,.2f}<br>' + \n",
    "                  'Difference percentage : %{customdata[2]:,.2f}%',\n",
    "    customdata=merged_df[['in_state_tuition', 'out_of_state_tuition', 'difference_percentage']].values.tolist()\n",
    ")\n",
    "\n",
    "fig.update_layout(\n",
    "    title={\n",
    "        'text': 'Mean Household Income per State',\n",
    "        'xanchor': 'center',\n",
    "        'yanchor': 'top',\n",
    "        'x': 0.5\n",
    "    },\n",
    "    coloraxis_colorbar=dict(title='Mean Household Income'),\n",
    ")\n",
    "\n",
    "fig.show()"
   ]
  },
  {
   "attachments": {},
   "cell_type": "markdown",
   "metadata": {},
   "source": [
    "figuur 6"
   ]
  },
  {
   "attachments": {},
   "cell_type": "markdown",
   "metadata": {},
   "source": [
    "## Visualisatie 7\n",
    "\n",
    "In de onderstaande scatterdiagram van de tweede dataset valt de correlatie te zien tussen Career pay en Tuition fee voor in-state tuition en out-of-state tuition. Met Career pay wordt het gemiddelde verwachte salaris bedoeld voor een student van een bepaalde universiteit. Hierbij wordt er dus geen onderscheid gemaakt tussen verschillende studies binnen een universiteit.\n",
    "\n",
    "In de grafiek is af te lezen dat studenten die meer dan $50 000 tuition betalen, gemiddeld \n",
    "meer verdienen dan studenten die minder tuition betalen. Hieruit kan dus geconcludeerd\n",
    "worden dat het betalen van hoge kosten voor tuition een indicator is voor een hoger inkomen, dit ondersteunt ons eerste perspectief.\n",
    "Echter betekent dit niet dat het betalen van weinig tuition hoe dan ook resulteert in een laag \n",
    "inkomen. Dit is ook af te lezen in de grafiek, er zijn namelijk meerdere gevallen van lage kosten voor tuition maar hoge inkomens. Verder zou de onderstaande scatterdiagram ook gebruikt kunnen worden voor het analyseren van de ongelijkheid die ontstaat door het grote verschil tussen in en out-of state tuition. \n",
    "\n",
    "Zo kan er bijvoorbeeld iemand met een hoog huishoudelijk inkomen, die veel collegegeld betaalt, naar dezelfde universiteit gaan als iemand met een laag huishoudelijk inkomen die weinig collegegeld betaalt. Doordat degene met een hoog huishoudelijk inkomen studeert aan een universiteit die zich buiten de staat waarin deze persoon woont bevindt.\n"
   ]
  },
  {
   "cell_type": "code",
   "execution_count": null,
   "metadata": {},
   "outputs": [],
   "source": [
    "sub_df = tuition_df[['name','in_state_tuition', 'out_of_state_tuition', 'mid_career_pay']]\n",
    "\n",
    "fig = px.scatter(\n",
    "    sub_df,\n",
    "    x = sub_df['mid_career_pay'],\n",
    "    y = [sub_df['in_state_tuition'], sub_df['out_of_state_tuition']]\n",
    "    #labels={'mid_career_pay' : 'Estimated career pay', 'in_state_tuition' : 'In state tuition', 'out_of_state_tuition' : 'Out of state tuition'}\n",
    ")\n",
    "\n",
    "fig.update_traces(\n",
    "    hovertemplate='<b>%{customdata[0]}</b><br>' +\n",
    "                  'In State tuition Fee: $%{customdata[3]}<br>' +\n",
    "                  'Out-of-State Tuition Fee: $%{customdata[2]}<br>' +\n",
    "                  'Estimated career pay: $%{customdata[1]}',\n",
    "    customdata=sub_df[['name','mid_career_pay', 'out_of_state_tuition', 'in_state_tuition']].values.tolist()\n",
    ")\n",
    "fig.show()"
   ]
  },
  {
   "attachments": {},
   "cell_type": "markdown",
   "metadata": {},
   "source": [
    "# Reflection\n",
    "Over het algemeen werden de visualisaties goed ontvangen, maar er waren enkele punten\n",
    " die we moesten aanpassen. Ten eerste moesten we de volgorde van visualisatie 3 verbeteren\n",
    " en van visualisatie 6 een interactieve visualisatie maken. Bovendien werd opgemerkt dat onze \n",
    "beschrijvingen en argumenten nog niet volledig op orde waren. Er waren te weinig argumenten\n",
    " om onze perspectieven te ondersteunen. Na het ontvangen van deze feedback hebben we\n",
    " besloten om ons onderwerp te veranderen en andere perspectieven te kiezen. De reden \n",
    "hiervoor was dat ons eerdere perspectieven en onderwerp niet aansloten op onze datasets.\n",
    " Na het onderwerp en de perspectieven te hebben aangepast, is het toch gelukt om de juiste \n",
    "argumenten te bedenken bij de visualisaties. \n"
   ]
  },
  {
   "attachments": {},
   "cell_type": "markdown",
   "metadata": {},
   "source": [
    "## Work Distribution\n",
    "| Taak | Uitvoerder |\n",
    "| --- | ---- | \n",
    "| Juiste datasets vinden | Micky, Olav, Jannes |\n",
    "| Perspectieven bedenken | Jannes |\n",
    "Introductie | Jannes & Olek\n",
    "Visualisatie 1 | Olav\n",
    "Visualisatie 2 | Olav\n",
    "Visualisatie 3 | Olek\n",
    "Visualisatie 4 | Olav\n",
    "Visualisatie 5 | Olav\n",
    "Visualisatie 6 | Olav\n",
    "Visualisatie 7 | Olek\n",
    "Beschrijving 1&2 | Olek\n",
    "Beschrijving 3 | Micky\n",
    "Beschrijving 4,5&6 | Micky\n",
    "| Beschrijving 7 | Jannes |\n",
    "Jupyter notebook samenvoegen | Olav\n",
    "| Jupyterbook Pushen op github | Olav |\n",
    "| Reflectie | Jannes |\n",
    "\n"
   ]
  },
  {
   "attachments": {},
   "cell_type": "markdown",
   "metadata": {},
   "source": [
    "figuur 7"
   ]
  }
 ],
 "metadata": {
  "kernelspec": {
   "display_name": "base",
   "language": "python",
   "name": "python3"
  },
  "language_info": {
   "codemirror_mode": {
    "name": "ipython",
    "version": 3
   },
   "file_extension": ".py",
   "mimetype": "text/x-python",
   "name": "python",
   "nbconvert_exporter": "python",
   "pygments_lexer": "ipython3",
   "version": "3.11.0"
  },
  "orig_nbformat": 4
 },
 "nbformat": 4,
 "nbformat_minor": 2
}
